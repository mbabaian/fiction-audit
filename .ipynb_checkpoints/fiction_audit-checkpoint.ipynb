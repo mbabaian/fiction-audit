{
 "cells": [
  {
   "cell_type": "markdown",
   "metadata": {},
   "source": [
    "# Fiction Audit"
   ]
  },
  {
   "cell_type": "markdown",
   "metadata": {},
   "source": [
    "### Import the necessary libraries"
   ]
  },
  {
   "cell_type": "code",
   "execution_count": 4,
   "metadata": {},
   "outputs": [],
   "source": [
    "import pandas as pd\n",
    "import matplotlib.pyplot as plt\n",
    "import numpy as np\n",
    "\n",
    "# Read in excel spreadsheet\n",
    "file = '/Users/Monica/fiction-audit/fic_collection.xls'\n",
    "\n",
    "# print data\n",
    "xl = pd.read_excel(file)"
   ]
  },
  {
   "cell_type": "markdown",
   "metadata": {},
   "source": [
    "### Explore the data\n",
    "Start by printing the column names"
   ]
  },
  {
   "cell_type": "code",
   "execution_count": 5,
   "metadata": {},
   "outputs": [
    {
     "name": "stdout",
     "output_type": "stream",
     "text": [
      "Index(['call_num', 'author', 'title', 'barcode', 'year', 'status', 'circs'], dtype='object')\n"
     ]
    }
   ],
   "source": [
    "headers = xl.dtypes.index\n",
    "print(headers)"
   ]
  },
  {
   "cell_type": "markdown",
   "metadata": {},
   "source": [
    "### Sample data"
   ]
  },
  {
   "cell_type": "code",
   "execution_count": 6,
   "metadata": {},
   "outputs": [
    {
     "name": "stdout",
     "output_type": "stream",
     "text": [
      "   call_num                   author  \\\n",
      "0       FIC                      NaN   \n",
      "1     [Fic]       Gratz, Alan, 1972-   \n",
      "2     [Fic]           Rowling, J. K.   \n",
      "3   FIC ABB  Abbott, Megan E., 1971-   \n",
      "4   FIC ABB  Abbott, Megan E., 1971-   \n",
      "5   FIC ABB  Abbott, Megan E., 1971-   \n",
      "6   FIC ABB  Abbott, Megan E., 1971-   \n",
      "7   FIC ABB            Abbott, Tony.   \n",
      "8   FIC ABD     Abdel-Fattah, Randa.   \n",
      "9   FIC ABR   Abrahams, Peter, 1947-   \n",
      "10  FIC ACH          Acheba, Chinua.   \n",
      "11  FIC ACH          Acheba, Chinua.   \n",
      "12  FIC ACH          Achebe, Chinua.   \n",
      "13  FIC ACH          Achebe, Chinua.   \n",
      "14  FIC ACH          Achebe, Chinua.   \n",
      "15  FIC ACH          Achebe, Chinua.   \n",
      "16  FIC ACI       Acito, Marc, 1966-   \n",
      "17  FIC ADA     Adams, Colin Conrad,   \n",
      "18  FIC ADA    Adams, Douglas, 1952-   \n",
      "19  FIC ADA    Adams, Richard, 1920-   \n",
      "\n",
      "                                                title        barcode    year  \\\n",
      "0                                              Bizou.         T 2012     NaN   \n",
      "1                                   Samurai shortstop  3017039000656  2006.0   \n",
      "2                Harry Potter and the deathly hallows  3017039001062  2007.0   \n",
      "3                                   Dare me : a novel  3017000006239  2012.0   \n",
      "4                                   Dare me : a novel  3017000006255  2012.0   \n",
      "5                                   Dare me : a novel  3017000006271  2012.0   \n",
      "6                                   Dare me : a novel  3017029000024  2012.0   \n",
      "7                                            Firegirl  3017039000944  2006.0   \n",
      "8                      Does my head look big in this?  3017039002234  2007.0   \n",
      "9                                       Reality check  3017039001764  2010.0   \n",
      "10                               A man of the people.        T 15520  1967.0   \n",
      "11                               A man of the people.        T 15521  1967.0   \n",
      "12                                       Arrow of God        T 40604  1989.0   \n",
      "13                                A man of the people        T 30007  1989.0   \n",
      "14                                  Things fall apart  3017039000036  1994.0   \n",
      "15                                  Things fall apart  3017039000037  1994.0   \n",
      "16  How I paid for college : a novel of sex, theft...  3017039001291  2004.0   \n",
      "17                                 Zombies & calculus  3017039002851  2014.0   \n",
      "18                                    Mostly harmless        T 23318  1992.0   \n",
      "19                                     Watership Down  3017078000351  2005.0   \n",
      "\n",
      "       status  circs  \n",
      "0        Lost      0  \n",
      "1   Available      0  \n",
      "2   Available      2  \n",
      "3        Lost      0  \n",
      "4        Lost      0  \n",
      "5        Lost      0  \n",
      "6        Lost      0  \n",
      "7        Lost      0  \n",
      "8   Available      0  \n",
      "9        Lost      0  \n",
      "10       Lost      0  \n",
      "11       Lost      0  \n",
      "12       Lost      0  \n",
      "13       Lost      0  \n",
      "14       Lost      0  \n",
      "15       Lost      0  \n",
      "16       Lost      0  \n",
      "17  Available      0  \n",
      "18       Lost      0  \n",
      "19  Available      0  \n"
     ]
    }
   ],
   "source": [
    "print(xl[:20])"
   ]
  },
  {
   "cell_type": "code",
   "execution_count": 25,
   "metadata": {},
   "outputs": [
    {
     "name": "stdout",
     "output_type": "stream",
     "text": [
      "0                        NaN\n",
      "1         Gratz, Alan, 1972-\n",
      "2             Rowling, J. K.\n",
      "3    Abbott, Megan E., 1971-\n",
      "4    Abbott, Megan E., 1971-\n",
      "5    Abbott, Megan E., 1971-\n",
      "6    Abbott, Megan E., 1971-\n",
      "7              Abbott, Tony.\n",
      "8       Abdel-Fattah, Randa.\n",
      "9     Abrahams, Peter, 1947-\n",
      "Name: author, dtype: object 0                                  Bizou.\n",
      "1                       Samurai shortstop\n",
      "2    Harry Potter and the deathly hallows\n",
      "3                       Dare me : a novel\n",
      "4                       Dare me : a novel\n",
      "5                       Dare me : a novel\n",
      "6                       Dare me : a novel\n",
      "7                                Firegirl\n",
      "8          Does my head look big in this?\n",
      "9                           Reality check\n",
      "Name: title, dtype: object\n"
     ]
    }
   ],
   "source": [
    "print(xl['author'].head(10), xl['title'].head(10))"
   ]
  },
  {
   "cell_type": "code",
   "execution_count": 8,
   "metadata": {},
   "outputs": [
    {
     "name": "stdout",
     "output_type": "stream",
     "text": [
      "Number of rows:  3998\n"
     ]
    }
   ],
   "source": [
    "print(\"Number of rows: \",  len(xl))"
   ]
  },
  {
   "cell_type": "markdown",
   "metadata": {},
   "source": [
    "### Clean the data \n",
    "Start by removing duplicate titles "
   ]
  },
  {
   "cell_type": "code",
   "execution_count": 9,
   "metadata": {},
   "outputs": [
    {
     "name": "stdout",
     "output_type": "stream",
     "text": [
      "['Bizou.' 'Samurai shortstop' 'Harry Potter and the deathly hallows' ...\n",
      " 'The Book Thief.' 'The book thief' 'I am the messenger']\n"
     ]
    }
   ],
   "source": [
    "titles = xl['title'].unique()\n",
    "print(titles)"
   ]
  },
  {
   "cell_type": "markdown",
   "metadata": {},
   "source": [
    "This is good information to have, but notice how its appearance isn't easily readable. We will fix that later. For now, let's see how we can get the number of unique titles in the collection."
   ]
  },
  {
   "cell_type": "code",
   "execution_count": 10,
   "metadata": {},
   "outputs": [
    {
     "name": "stdout",
     "output_type": "stream",
     "text": [
      "Number of unique titles in the collection:  2905\n"
     ]
    }
   ],
   "source": [
    "print(\"Number of unique titles in the collection: \", len(titles))"
   ]
  },
  {
   "cell_type": "markdown",
   "metadata": {},
   "source": [
    "By cleaning up the data, we removed over 1000 records. We can do the same for the unique author names. "
   ]
  },
  {
   "cell_type": "code",
   "execution_count": 11,
   "metadata": {},
   "outputs": [
    {
     "name": "stdout",
     "output_type": "stream",
     "text": [
      "[nan 'Gratz, Alan, 1972-' 'Rowling, J. K.' ... 'Zuckerman, Linda.'\n",
      " 'Markus Zusak.' 'Zusak, Markus.']\n"
     ]
    }
   ],
   "source": [
    "authors = xl['author'].unique()\n",
    "print(authors)"
   ]
  },
  {
   "cell_type": "markdown",
   "metadata": {},
   "source": [
    "We have the same issue we did with the titles. The list is truncated and its format looks odd. We can fix that by looping through the author names with a for loop. Because there are so many authors in the collection, I am printing only the first twenty records. "
   ]
  },
  {
   "cell_type": "code",
   "execution_count": 12,
   "metadata": {},
   "outputs": [
    {
     "name": "stdout",
     "output_type": "stream",
     "text": [
      "nan\n",
      "Gratz, Alan, 1972-\n",
      "Rowling, J. K.\n",
      "Abbott, Megan E., 1971-\n",
      "Abbott, Tony.\n",
      "Abdel-Fattah, Randa.\n",
      "Abrahams, Peter, 1947-\n",
      "Acheba, Chinua.\n",
      "Achebe, Chinua.\n",
      "Acito, Marc, 1966-\n",
      "Adams, Colin Conrad,\n",
      "Adams, Douglas, 1952-\n",
      "Adams, Richard, 1920-\n",
      "Adichie, Chimamanda Ngozi, 1977-\n",
      "Adlington, L. J. (Lucy J.), 1970-\n",
      "Adoff, Jaime.\n",
      "edited by Ellen Datlow and Terri Windling.\n",
      "Aguilar Zeleny, Sylvia, 1973-\n",
      "Aguirre, Ann.\n"
     ]
    }
   ],
   "source": [
    "for author in authors[0:19]:\n",
    "    print(author)"
   ]
  },
  {
   "cell_type": "markdown",
   "metadata": {},
   "source": [
    "This is much better. We have tidied up some of the data and now the author names in one neat column, without any repeats. Let's go back and do the same for the titles, again using only the first twenty records to save space. "
   ]
  },
  {
   "cell_type": "code",
   "execution_count": 13,
   "metadata": {},
   "outputs": [
    {
     "name": "stdout",
     "output_type": "stream",
     "text": [
      "Bizou.\n",
      "Samurai shortstop\n",
      "Harry Potter and the deathly hallows\n",
      "Dare me : a novel\n",
      "Firegirl\n",
      "Does my head look big in this?\n",
      "Reality check\n",
      "A man of the people.\n",
      "Arrow of God\n",
      "A man of the people\n",
      "Things fall apart\n",
      "How I paid for college : a novel of sex, theft, friendship & musical theater\n",
      "Zombies & calculus\n",
      "Mostly harmless\n",
      "Watership Down\n",
      "Purple hibiscus : a novel\n",
      "The diary of Pelly D\n",
      "Jimi & me\n",
      "Names will never hurt me\n"
     ]
    }
   ],
   "source": [
    "for title in titles[0:19]:\n",
    "    print(title)"
   ]
  },
  {
   "cell_type": "markdown",
   "metadata": {},
   "source": [
    "#### Get number of unique author names"
   ]
  },
  {
   "cell_type": "code",
   "execution_count": 14,
   "metadata": {},
   "outputs": [
    {
     "name": "stdout",
     "output_type": "stream",
     "text": [
      "\n",
      "Number of unique author names:  1645\n"
     ]
    }
   ],
   "source": [
    "print(\"\\nNumber of unique author names: \", len(authors)) "
   ]
  },
  {
   "cell_type": "markdown",
   "metadata": {},
   "source": [
    "#### Get count for unique items"
   ]
  },
  {
   "cell_type": "code",
   "execution_count": 15,
   "metadata": {},
   "outputs": [
    {
     "name": "stdout",
     "output_type": "stream",
     "text": [
      "\n",
      "Number of unique titles in collection:  2905\n"
     ]
    }
   ],
   "source": [
    "print(\"\\nNumber of unique titles in collection: \", len(titles))"
   ]
  },
  {
   "cell_type": "markdown",
   "metadata": {},
   "source": [
    "#### Presenting the Data\n",
    "We have cleaned up the data a lot but there is more we can do to make it presentable. Let's start with the two columns we have--title and author. We want to put the two columns side by side with both columns titled. "
   ]
  },
  {
   "cell_type": "code",
   "execution_count": 16,
   "metadata": {},
   "outputs": [
    {
     "name": "stdout",
     "output_type": "stream",
     "text": [
      "\n",
      "AUTHORS\n",
      "nan\n",
      "Gratz, Alan, 1972-\n",
      "Rowling, J. K.\n",
      "Abbott, Megan E., 1971-\n",
      "Abbott, Tony.\n",
      "Abdel-Fattah, Randa.\n",
      "Abrahams, Peter, 1947-\n",
      "Acheba, Chinua.\n",
      "Achebe, Chinua.\n",
      "Acito, Marc, 1966-\n",
      "Adams, Colin Conrad,\n",
      "Adams, Douglas, 1952-\n",
      "Adams, Richard, 1920-\n",
      "Adichie, Chimamanda Ngozi, 1977-\n",
      "Adlington, L. J. (Lucy J.), 1970-\n",
      "Adoff, Jaime.\n",
      "edited by Ellen Datlow and Terri Windling.\n",
      "Aguilar Zeleny, Sylvia, 1973-\n",
      "Aguirre, Ann.\n",
      "\n",
      "TITLES\n",
      "Bizou.\n",
      "Samurai shortstop\n",
      "Harry Potter and the deathly hallows\n",
      "Dare me : a novel\n",
      "Firegirl\n",
      "Does my head look big in this?\n",
      "Reality check\n",
      "A man of the people.\n",
      "Arrow of God\n",
      "A man of the people\n",
      "Things fall apart\n",
      "How I paid for college : a novel of sex, theft, friendship & musical theater\n",
      "Zombies & calculus\n",
      "Mostly harmless\n",
      "Watership Down\n",
      "Purple hibiscus : a novel\n",
      "The diary of Pelly D\n",
      "Jimi & me\n",
      "Names will never hurt me\n"
     ]
    }
   ],
   "source": [
    "print(\"\\nAUTHORS\")\n",
    "for author in authors[:19]:\n",
    "    print(author)\n",
    "    \n",
    "print(\"\\nTITLES\")\n",
    "for title in titles[:19]: \n",
    "    print(title)\n",
    "    "
   ]
  },
  {
   "cell_type": "markdown",
   "metadata": {},
   "source": [
    "Making progress! Now I have one column for unique titles and another column for unique author names. Now we can wrap it all by by mapping authors to titles and formatting a response:"
   ]
  },
  {
   "cell_type": "code",
   "execution_count": 17,
   "metadata": {},
   "outputs": [
    {
     "name": "stdout",
     "output_type": "stream",
     "text": [
      "Bizou. by nan\n",
      "Samurai shortstop by Gratz, Alan, 1972-\n",
      "Harry Potter and the deathly hallows by Rowling, J. K.\n",
      "Dare me : a novel by Abbott, Megan E., 1971-\n",
      "Firegirl by Abbott, Tony.\n",
      "Does my head look big in this? by Abdel-Fattah, Randa.\n",
      "Reality check by Abrahams, Peter, 1947-\n",
      "A man of the people. by Acheba, Chinua.\n",
      "Arrow of God by Achebe, Chinua.\n",
      "A man of the people by Acito, Marc, 1966-\n",
      "Things fall apart by Adams, Colin Conrad,\n",
      "How I paid for college : a novel of sex, theft, friendship & musical theater by Adams, Douglas, 1952-\n",
      "Zombies & calculus by Adams, Richard, 1920-\n",
      "Mostly harmless by Adichie, Chimamanda Ngozi, 1977-\n",
      "Watership Down by Adlington, L. J. (Lucy J.), 1970-\n",
      "Purple hibiscus : a novel by Adoff, Jaime.\n",
      "The diary of Pelly D by edited by Ellen Datlow and Terri Windling.\n",
      "Jimi & me by Aguilar Zeleny, Sylvia, 1973-\n",
      "Names will never hurt me by Aguirre, Ann.\n"
     ]
    }
   ],
   "source": [
    "for k, v in zip(authors[:19], titles[:19]):\n",
    "    print(\"{1} by {0}\".format(k,v))"
   ]
  },
  {
   "cell_type": "markdown",
   "metadata": {},
   "source": [
    "#### Number of unique titles per author"
   ]
  },
  {
   "cell_type": "code",
   "execution_count": null,
   "metadata": {},
   "outputs": [],
   "source": [
    "# Put bar chart here"
   ]
  },
  {
   "cell_type": "markdown",
   "metadata": {},
   "source": [
    "#### Data Visualization\n",
    "Create a barchart showing number of items per status"
   ]
  },
  {
   "cell_type": "code",
   "execution_count": 26,
   "metadata": {},
   "outputs": [
    {
     "data": {
      "image/png": "[encoded data removed]",
      "text/plain": [
       "<matplotlib.figure.Figure at 0x128db90>"
      ]
     },
     "metadata": {},
     "output_type": "display_data"
    }
   ],
   "source": [
    "status = xl['status'].unique()\n",
    "\n",
    "lost = sum(xl['status']==\"Lost\")\n",
    "available = sum(xl['status']==\"Available\")\n",
    "cko = sum(xl['status']==\"Checked Out\")\n",
    "\n",
    "index = np.arange(len(status))\n",
    "values = [lost, available, cko]\n",
    "plt.figure(figsize=(20,10))\n",
    "plt.bar(index, values)\n",
    "#plt.xlabel('Status', fontsize=8)\n",
    "#plt.ylabel('Value', fontsize=8)\n",
    "plt.xticks(index, status)\n",
    "plt.title('Number of Items per Status')\n",
    "\n",
    "plt.show()"
   ]
  },
  {
   "cell_type": "code",
   "execution_count": null,
   "metadata": {},
   "outputs": [],
   "source": []
  }
 ],
 "metadata": {
  "kernelspec": {
   "display_name": "Python 3",
   "language": "python",
   "name": "python3"
  },
  "language_info": {
   "codemirror_mode": {
    "name": "ipython",
    "version": 3
   },
   "file_extension": ".py",
   "mimetype": "text/x-python",
   "name": "python",
   "nbconvert_exporter": "python",
   "pygments_lexer": "ipython3",
   "version": "3.6.0"
  }
 },
 "nbformat": 4,
 "nbformat_minor": 2
}
